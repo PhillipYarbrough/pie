{
  "nbformat": 4,
  "nbformat_minor": 0,
  "metadata": {
    "colab": {
      "name": "ternary-operator.ipynb",
      "provenance": [],
      "collapsed_sections": [],
      "toc_visible": true,
      "authorship_tag": "ABX9TyOrkgP73QC4Vun3CsJbZO7y",
      "include_colab_link": true
    },
    "kernelspec": {
      "name": "python3",
      "display_name": "Python 3"
    },
    "language_info": {
      "name": "python"
    }
  },
  "cells": [
    {
      "cell_type": "markdown",
      "metadata": {
        "id": "view-in-github",
        "colab_type": "text"
      },
      "source": [
        "<a href=\"https://colab.research.google.com/github/Jade-flow/pie/blob/main/ternary_operator.ipynb\" target=\"_parent\"><img src=\"https://colab.research.google.com/assets/colab-badge.svg\" alt=\"Open In Colab\"/></a>"
      ]
    },
    {
      "cell_type": "markdown",
      "metadata": {
        "id": "QkOuyx8GsTTs"
      },
      "source": [
        "# Ternary operator / Conditional expression\n",
        "\n",
        "Compress an IF-ELSE chunk in one expression\n",
        "\n",
        "Pythonic way\n",
        "\n",
        "*value_if_true **if** condition **else** value_if_false*\n",
        "\n"
      ]
    },
    {
      "cell_type": "code",
      "metadata": {
        "colab": {
          "base_uri": "https://localhost:8080/"
        },
        "collapsed": true,
        "id": "ZwvUYNM785SK",
        "outputId": "16de4d5e-f6e1-4373-fb0f-547bc215d9fe"
      },
      "source": [
        "# Generate a value for action, depending on the evaluation of a given condition/test\n",
        "test = False\n",
        "\n",
        "if test:\n",
        "  action = \"wash your face\"\n",
        "else:\n",
        "  action = \"brush your teeth\"\n",
        "\n",
        "print(f\"{action}\")    "
      ],
      "execution_count": 26,
      "outputs": [
        {
          "output_type": "stream",
          "name": "stdout",
          "text": [
            "brush your teeth\n"
          ]
        }
      ]
    },
    {
      "cell_type": "code",
      "metadata": {
        "colab": {
          "base_uri": "https://localhost:8080/",
          "height": 37
        },
        "collapsed": true,
        "id": "n6sHmoeI9R-p",
        "outputId": "0e18f9e9-f67d-45ec-fc5c-71c2594fd926"
      },
      "source": [
        "\"wash your face\" if test else \"brush your teeth\""
      ],
      "execution_count": 22,
      "outputs": [
        {
          "output_type": "execute_result",
          "data": {
            "application/vnd.google.colaboratory.intrinsic+json": {
              "type": "string"
            },
            "text/plain": [
              "'brush your teeth'"
            ]
          },
          "metadata": {},
          "execution_count": 22
        }
      ]
    },
    {
      "cell_type": "markdown",
      "metadata": {
        "id": "0TQP7Uqy9vaj"
      },
      "source": [
        "# Example "
      ]
    },
    {
      "cell_type": "code",
      "metadata": {
        "id": "QaZ0_8Qv0xTY",
        "colab": {
          "base_uri": "https://localhost:8080/"
        },
        "collapsed": true,
        "outputId": "7539471d-dae2-48e7-a2e4-c4a5bcf41bea"
      },
      "source": [
        "sequence = \"123\"\n",
        "reverse_sequence = \"123\"\n",
        "\n",
        "if sequence == reverse_sequence:\n",
        "  print(f\"{sequence} is a palindrome.\")\n",
        "else:\n",
        "  print(f\"{sequence} is NOT a palindrome.\")"
      ],
      "execution_count": 3,
      "outputs": [
        {
          "output_type": "stream",
          "name": "stdout",
          "text": [
            "123 is a palindrome.\n"
          ]
        }
      ]
    },
    {
      "cell_type": "code",
      "metadata": {
        "colab": {
          "base_uri": "https://localhost:8080/"
        },
        "collapsed": true,
        "id": "GUhlotbx28uw",
        "outputId": "96b5087b-8206-42d2-c416-a50c8e03b2fb"
      },
      "source": [
        "sequence = \"123\"\n",
        "reverse_sequence = \"223\"\n",
        "\n",
        "is_Palindrome = False\n",
        "\n",
        "if sequence == reverse_sequence:\n",
        "  is_Palindrome = True\n",
        "\n",
        "if is_Palindrome: \n",
        "  print(f\"{sequence} is a palindrome.\")\n",
        "else:\n",
        "  print(f\"{sequence} is NOT a palindrome.\")\n"
      ],
      "execution_count": 14,
      "outputs": [
        {
          "output_type": "stream",
          "name": "stdout",
          "text": [
            "123 is NOT a palindrome.\n"
          ]
        }
      ]
    },
    {
      "cell_type": "code",
      "metadata": {
        "colab": {
          "base_uri": "https://localhost:8080/"
        },
        "id": "b8mjbrP08C2Y",
        "outputId": "d2a4dcf0-6ed3-471b-b488-8ac79cc0868b"
      },
      "source": [
        "sequence = \"123\"\n",
        "reverse_sequence = \"321\"\n",
        "\n",
        "is_Palindrome = False\n",
        "\n",
        "if sequence == reverse_sequence:\n",
        "  is_Palindrome = True\n",
        "\n",
        "answer = f\"{sequence} is a palindrome\" if is_Palindrome else f\"{sequence} is NOT a palindrome\"\n",
        "\n",
        "print(answer)"
      ],
      "execution_count": 29,
      "outputs": [
        {
          "output_type": "stream",
          "name": "stdout",
          "text": [
            "123 is NOT a palindrome\n"
          ]
        }
      ]
    },
    {
      "cell_type": "markdown",
      "metadata": {
        "id": "NuyPgss4Erv_"
      },
      "source": [
        "# Exercise:\n",
        "\n",
        "Find the minimum of two given numbers by using the ternary operator."
      ]
    }
  ]
}