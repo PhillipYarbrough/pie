{
  "nbformat": 4,
  "nbformat_minor": 0,
  "metadata": {
    "colab": {
      "name": "palindrome.ipynb",
      "provenance": [],
      "collapsed_sections": []
    },
    "kernelspec": {
      "name": "python3",
      "display_name": "Python 3"
    },
    "language_info": {
      "name": "python"
    }
  },
  "cells": [
    {
      "cell_type": "markdown",
      "metadata": {
        "id": "QkOuyx8GsTTs"
      },
      "source": [
        "# Palindrome\n",
        "\n",
        "- Give two solutions to test a given sequence (string) is a palindrome or not. \n",
        "\n",
        "- Compare the two solutions in terms of time cost by using the magic notation `%%timeit`"
      ]
    },
    {
      "cell_type": "markdown",
      "metadata": {
        "id": "XI8xkgh_sI9b"
      },
      "source": [
        "## A palindrome is a word, number, phrase, or other sequence of characters which reads the same backward as forward. "
      ]
    },
    {
      "cell_type": "code",
      "metadata": {
        "id": "QaZ0_8Qv0xTY"
      },
      "source": [
        "# Solution 1"
      ],
      "execution_count": null,
      "outputs": []
    },
    {
      "cell_type": "code",
      "metadata": {
        "id": "0L0MxOYnWNo6"
      },
      "source": [
        "# Solution 2"
      ],
      "execution_count": null,
      "outputs": []
    },
    {
      "cell_type": "markdown",
      "metadata": {
        "id": "YqBRmUknWPbe"
      },
      "source": [
        "Write the comparison result here."
      ]
    }
  ]
}