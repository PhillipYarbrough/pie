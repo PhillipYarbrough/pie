{
  "nbformat": 4,
  "nbformat_minor": 0,
  "metadata": {
    "colab": {
      "name": "slice-notation.ipynb",
      "provenance": [],
      "collapsed_sections": [],
      "authorship_tag": "ABX9TyOsyXre1p83Sg7q9AAg9Kqe",
      "include_colab_link": true
    },
    "kernelspec": {
      "name": "python3",
      "display_name": "Python 3"
    },
    "language_info": {
      "name": "python"
    }
  },
  "cells": [
    {
      "cell_type": "markdown",
      "metadata": {
        "id": "view-in-github",
        "colab_type": "text"
      },
      "source": [
        "<a href=\"https://colab.research.google.com/github/Jade-flow/pie/blob/main/python/slice_notation.ipynb\" target=\"_parent\"><img src=\"https://colab.research.google.com/assets/colab-badge.svg\" alt=\"Open In Colab\"/></a>"
      ]
    },
    {
      "cell_type": "markdown",
      "metadata": {
        "id": "Mc93m4_qtM8Q"
      },
      "source": [
        "# The slice notation `[:]`\n",
        "\n",
        "* partitioning a sequence (List)\n",
        "* `[start : end : step]` is similar to the sequence notation. It is __a stepwise process__.\n",
        "\n",
        "By default, the slice (interval) is left-closed (inclusive) and right-open (exclusive).\n",
        "\n",
        "  - Go to the position specifiied by the index `start`. \n",
        "  - Pull the value. \n",
        "  - Take one step further with the step size given by `step` \n",
        "  - Pull the next value. \n",
        "  - Repeat this until reach the position specified by the index `end`. \n",
        "\n",
        "Alternatively, it says we want to pull a slice between two positions, `start` and `end`; the distance between every two values in the slice, is defined by `step`."
      ]
    },
    {
      "cell_type": "code",
      "metadata": {
        "id": "6AKw_a0RwdSj",
        "colab": {
          "base_uri": "https://localhost:8080/",
          "height": 321
        },
        "outputId": "2837dbcd-d663-4ea3-d7f2-6d80b5c30235"
      },
      "source": [
        "from IPython.display import YouTubeVideo\n",
        "YouTubeVideo('6eQJ7j1hkE0')"
      ],
      "execution_count": null,
      "outputs": [
        {
          "output_type": "execute_result",
          "data": {
            "text/html": [
              "\n",
              "        <iframe\n",
              "            width=\"400\"\n",
              "            height=\"300\"\n",
              "            src=\"https://www.youtube.com/embed/6eQJ7j1hkE0\"\n",
              "            frameborder=\"0\"\n",
              "            allowfullscreen\n",
              "        ></iframe>\n",
              "        "
            ],
            "text/plain": [
              "<IPython.lib.display.YouTubeVideo at 0x7f6722e26e50>"
            ],
            "image/jpeg": "[encoded data removed]"
          },
          "metadata": {},
          "execution_count": 2
        }
      ]
    },
    {
      "cell_type": "code",
      "metadata": {
        "id": "_FnY-Sl1wKGJ"
      },
      "source": [
        "n = \"colabgoogle\"\n",
        "#n = 1234567890\n",
        "#n = str(n)"
      ],
      "execution_count": null,
      "outputs": []
    },
    {
      "cell_type": "code",
      "metadata": {
        "id": "OEG7TyH5s8DL",
        "colab": {
          "base_uri": "https://localhost:8080/",
          "height": 37
        },
        "outputId": "3add954c-88d2-43bc-aaf0-09f993d83c40"
      },
      "source": [
        "# Take the first two elements \n",
        "# (0 1) 2 3 4 5 6 7 \n",
        "n[0:2:1]"
      ],
      "execution_count": null,
      "outputs": [
        {
          "output_type": "execute_result",
          "data": {
            "application/vnd.google.colaboratory.intrinsic+json": {
              "type": "string"
            },
            "text/plain": [
              "'co'"
            ]
          },
          "metadata": {},
          "execution_count": 4
        }
      ]
    },
    {
      "cell_type": "code",
      "metadata": {
        "colab": {
          "base_uri": "https://localhost:8080/",
          "height": 37
        },
        "id": "9oiR4sGzugLZ",
        "outputId": "a1376e11-2136-4338-8d5e-70e579bb43c8"
      },
      "source": [
        "# Take the elements between the 3rd and 6th positions\n",
        "# 0 1 (2 3 4 5) 6 7 \n",
        "n[2 : 6 : 1]"
      ],
      "execution_count": null,
      "outputs": [
        {
          "output_type": "execute_result",
          "data": {
            "application/vnd.google.colaboratory.intrinsic+json": {
              "type": "string"
            },
            "text/plain": [
              "'labg'"
            ]
          },
          "metadata": {},
          "execution_count": 5
        }
      ]
    },
    {
      "cell_type": "code",
      "metadata": {
        "colab": {
          "base_uri": "https://localhost:8080/",
          "height": 37
        },
        "id": "5IFe-umJvNrM",
        "outputId": "ecabbd85-ab24-4092-9aee-df4791f10049"
      },
      "source": [
        "# Take all the elements at the even positions\n",
        "# indexes: 0 (1) 2 (3) 4 (5) 6 ...\n",
        "n[ 1 :  : 2]"
      ],
      "execution_count": null,
      "outputs": [
        {
          "output_type": "execute_result",
          "data": {
            "application/vnd.google.colaboratory.intrinsic+json": {
              "type": "string"
            },
            "text/plain": [
              "'oagol'"
            ]
          },
          "metadata": {},
          "execution_count": 6
        }
      ]
    },
    {
      "cell_type": "code",
      "metadata": {
        "colab": {
          "base_uri": "https://localhost:8080/",
          "height": 37
        },
        "id": "QAVZzj1du6IK",
        "outputId": "c11eecec-f4ef-45cd-e374-fddf0224c0d1"
      },
      "source": [
        "# Reverse the given list (sequence)\n",
        "n[::-1]"
      ],
      "execution_count": null,
      "outputs": [
        {
          "output_type": "execute_result",
          "data": {
            "application/vnd.google.colaboratory.intrinsic+json": {
              "type": "string"
            },
            "text/plain": [
              "'elgoogbaloc'"
            ]
          },
          "metadata": {},
          "execution_count": 7
        }
      ]
    },
    {
      "cell_type": "code",
      "metadata": {
        "id": "-VJSgPtMwAYW"
      },
      "source": [
        "# Take all the elements at the odd positions"
      ],
      "execution_count": null,
      "outputs": []
    }
  ]
}