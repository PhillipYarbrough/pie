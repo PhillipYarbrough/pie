{
  "nbformat": 4,
  "nbformat_minor": 0,
  "metadata": {
    "colab": {
      "name": "timeit.ipynb",
      "provenance": [],
      "collapsed_sections": [],
      "authorship_tag": "ABX9TyPnZ9B5MxsLYatY+sL0YMpB",
      "include_colab_link": true
    },
    "kernelspec": {
      "name": "python3",
      "display_name": "Python 3"
    },
    "language_info": {
      "name": "python"
    }
  },
  "cells": [
    {
      "cell_type": "markdown",
      "metadata": {
        "id": "view-in-github",
        "colab_type": "text"
      },
      "source": [
        "<a href=\"https://colab.research.google.com/github/Jade-flow/pie/blob/main/python/timeit.ipynb\" target=\"_parent\"><img src=\"https://colab.research.google.com/assets/colab-badge.svg\" alt=\"Open In Colab\"/></a>"
      ]
    },
    {
      "cell_type": "markdown",
      "metadata": {
        "id": "5YD1GS1iSrDn"
      },
      "source": [
        "# *timeit* \n",
        "A simple way to time small bits of Python code\n",
        "\n",
        "1 sec = 1,000 milisec (ms) \n",
        "\n",
        "= 1,000,000 microsec (µs) \n",
        "\n",
        "= 1,000,000,000 nanosec (ns)\n",
        "\n",
        "1 microsecond is 1000 nanoseconds"
      ]
    },
    {
      "cell_type": "code",
      "metadata": {
        "id": "UEc0hu7ASorm"
      },
      "source": [
        "# Do Not RUN this cell\n",
        "import timeit\n",
        "\n",
        "timeit.repeat(stmt='pass', \n",
        "              setup='pass', \n",
        "              timer=<default timer>,                            \n",
        "              repeat=5, \n",
        "              number=1000000, \n",
        "              globals=None)"
      ],
      "execution_count": null,
      "outputs": []
    },
    {
      "cell_type": "markdown",
      "metadata": {
        "id": "N6A65nLdan1V"
      },
      "source": [
        "## The Magic notation \n",
        "\n",
        "%%timeit"
      ]
    },
    {
      "cell_type": "markdown",
      "metadata": {
        "id": "Jf82pLZidSEf"
      },
      "source": [
        "## Example\n",
        "\n",
        "Compare two solutions to the problem, in terms of time cost:\n",
        "\n",
        "Return the square of 100 integers between 1 and 100"
      ]
    },
    {
      "cell_type": "code",
      "metadata": {
        "id": "EU-j8iYsZfGb",
        "colab": {
          "base_uri": "https://localhost:8080/"
        },
        "outputId": "ee0acb3d-a0bd-48ab-9e90-b9d37e042157"
      },
      "source": [
        "%%timeit\n",
        "# for loop\n",
        "L = [] # a group of elements: List notation\n",
        "for n in range(1, 101): # left closed right open\n",
        "  L.append(n ** 2)\n",
        "#print(f\"L is {L}.\") #formatted string"
      ],
      "execution_count": null,
      "outputs": [
        {
          "output_type": "stream",
          "name": "stdout",
          "text": [
            "10 loops, best of 5: 33.7 ms per loop\n"
          ]
        }
      ]
    },
    {
      "cell_type": "code",
      "metadata": {
        "id": "g-hoIkgtZe0a",
        "colab": {
          "base_uri": "https://localhost:8080/"
        },
        "collapsed": true,
        "outputId": "948ffce3-b779-4a93-e862-554230f428b8"
      },
      "source": [
        "%%timeit\n",
        "# List comprehension\n",
        "# produce a new list from existing list(s)\n",
        "[ n**2 for n in range(1, 100001) ]"
      ],
      "execution_count": null,
      "outputs": [
        {
          "output_type": "stream",
          "name": "stdout",
          "text": [
            "10 loops, best of 5: 28.9 ms per loop\n"
          ]
        }
      ]
    },
    {
      "cell_type": "markdown",
      "metadata": {
        "id": "cnNscaiLZhnX"
      },
      "source": [
        "## Understand the result\n",
        "\n",
        "- In a typical case, the lowest value gives a lower bound for how fast you machine can run the given code chunk; \n",
        "\n",
        "- Higher values in the result are typically not caused by variability in Python's speed, but by other processes interfering with your timing accuracy.\n",
        "\n",
        "- Thus, the minimum of the result is probably the only number we are interested in. "
      ]
    }
  ]
}